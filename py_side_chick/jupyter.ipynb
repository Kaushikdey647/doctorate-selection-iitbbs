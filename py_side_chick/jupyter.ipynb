{
 "cells": [
  {
   "cell_type": "code",
   "execution_count": 19,
   "metadata": {},
   "outputs": [],
   "source": [
    "import os\n",
    "import pandas as pd\n",
    "import numpy as np\n",
    "import matplotlib.pyplot as plt"
   ]
  },
  {
   "cell_type": "code",
   "execution_count": 25,
   "metadata": {},
   "outputs": [],
   "source": [
    "student_data = {\n",
    "    \"bio\": pd.read_csv(\"bio.csv\"),\n",
    "    \"net\": pd.read_csv(\"net.csv\"),\n",
    "    \"gate\": pd.read_csv(\"gate.csv\"),\n",
    "    \"tenth\": pd.read_csv(\"tenth.csv\"),\n",
    "    \"others\": pd.read_csv(\"others.csv\"),\n",
    "    \"masters\": pd.read_csv(\"masters.csv\"),\n",
    "    \"plustwo\": pd.read_csv(\"plustwo.csv\"),\n",
    "    \"bachelors\": pd.read_csv(\"bachelors.csv\"),\n",
    "    \"experience\": pd.read_csv(\"experience.csv\"),\n",
    "}\n",
    "\n",
    "student_shortlisted_data = {}\n",
    "\n",
    "for key in student_data.keys():\n",
    "    student_shortlisted_data[key] = pd.DataFrame(columns = student_data[key].columns.tolist()) #copy column headers\n",
    "    if \"Institute\" in student_data[key].keys():\n",
    "        student_data[key][\"Institute\"].fillna(\"NA\",inplace=True) #Replace all NaN values with \"NA\"\n",
    "    if \"Programme\" in student_data[key].keys():\n",
    "        student_data[key][\"Programme\"].fillna(\"NA\",inplace=True) #Replace all NaN values with \"NA\"\n",
    "    if \"Specialization\" in student_data[key].keys():\n",
    "        student_data[key][\"Specialization\"].fillna(\"NA\",inplace=True) #Replace all NaN values with \"NA\"\n",
    "    if \"Discipline\" in student_data[key].keys():\n",
    "        student_data[key][\"Discipline\"].fillna(\"NA\",inplace=True) #Replace all NaN values with \"NA\""
   ]
  },
  {
   "cell_type": "code",
   "execution_count": 27,
   "metadata": {},
   "outputs": [
    {
     "ename": "SyntaxError",
     "evalue": "invalid syntax (Temp/ipykernel_13136/1214880998.py, line 30)",
     "output_type": "error",
     "traceback": [
      "\u001b[1;36m  File \u001b[1;32m\"C:\\Users\\kayde\\AppData\\Local\\Temp/ipykernel_13136/1214880998.py\"\u001b[1;36m, line \u001b[1;32m30\u001b[0m\n\u001b[1;33m    TargetDict[key] = TargetDict[key].append( SourceDict.loc(i,:) )\u001b[0m\n\u001b[1;37m                                                               ^\u001b[0m\n\u001b[1;31mSyntaxError\u001b[0m\u001b[1;31m:\u001b[0m invalid syntax\n"
     ]
    }
   ],
   "source": [
    "\n",
    "def checkIIT(Data):\n",
    "    \"\"\"\n",
    "    This Function checks for IITians, just a query check that's all\n",
    "    SHORTLISTING IIT CANDIDATES WITH COOL CG\n",
    "    \"\"\"\n",
    "    mydf = pd.DataFrame()\n",
    "    for i,row in Data.iterrows():\n",
    "        if \"iit\" in row[\"Institute\"].lower() or \"indian institute of technology\" in row[\"Institute\"].lower():\n",
    "            mydf = mydf.append(row,ignore_index=True)\n",
    "    return mydf\n",
    "\n",
    "def checkNET(Data):\n",
    "    \"\"\"\n",
    "    This function Checks for NET-UGC Qualification\n",
    "    \"\"\"\n",
    "    mydf = pd.DataFrame()\n",
    "    for i,row in Data.iterrows():\n",
    "        if row[\"Discipline\"] != \"NA\":\n",
    "            mydf = mydf.append(row)\n",
    "    return mydf\n",
    "\n",
    "#checkNET(student_data[\"net\"]).index.tolist()\n",
    "\n",
    "def appendShortlisted(TargetDict,SourceDict,ShortList):\n",
    "    \"\"\"\n",
    "    Appends Shortlisted Rows onto dict\n",
    "    \"\"\"\n",
    "    for key in SourceDict.keys():  \n",
    "        for i in ShortList:\n",
    "            TargetDict[key] = TargetDict[key].append( SourceDict.iloc[2] )\n"
   ]
  }
 ],
 "metadata": {
  "interpreter": {
   "hash": "17264bd1fb1a9b7cbc0888bb92fef587e421ef9389a00f81eeb6a35215f2d12d"
  },
  "kernelspec": {
   "display_name": "Python 3.8.10 64-bit",
   "language": "python",
   "name": "python3"
  },
  "language_info": {
   "codemirror_mode": {
    "name": "ipython",
    "version": 3
   },
   "file_extension": ".py",
   "mimetype": "text/x-python",
   "name": "python",
   "nbconvert_exporter": "python",
   "pygments_lexer": "ipython3",
   "version": "3.8.10"
  },
  "orig_nbformat": 4
 },
 "nbformat": 4,
 "nbformat_minor": 2
}
