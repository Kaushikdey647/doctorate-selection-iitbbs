{
 "cells": [
  {
   "cell_type": "code",
   "execution_count": 94,
   "metadata": {},
   "outputs": [],
   "source": [
    "import os\n",
    "import pandas as pd\n",
    "import pandasgui as pdgui\n",
    "import numpy as np\n",
    "import matplotlib.pyplot as plt"
   ]
  },
  {
   "cell_type": "markdown",
   "metadata": {},
   "source": [
    "# CSV Reader\n",
    "\n",
    "Here we read the CSV file"
   ]
  },
  {
   "cell_type": "code",
   "execution_count": 95,
   "metadata": {},
   "outputs": [],
   "source": [
    "student_data = {\n",
    "    \"bio\": pd.read_csv(\"bio.csv\"),\n",
    "    \"net\": pd.read_csv(\"net.csv\"),\n",
    "    \"gate\": pd.read_csv(\"gate.csv\"),\n",
    "    \"tenth\": pd.read_csv(\"tenth.csv\"),\n",
    "    \"others\": pd.read_csv(\"others.csv\"),\n",
    "    \"masters\": pd.read_csv(\"masters.csv\"),\n",
    "    \"plustwo\": pd.read_csv(\"plustwo.csv\"),\n",
    "    \"bachelors\": pd.read_csv(\"bachelors.csv\"),\n",
    "    \"experience\": pd.read_csv(\"experience.csv\"),\n",
    "}\n",
    "\n",
    "global reason\n",
    "\n",
    "reason = pd.DataFrame(columns = ['ReasonID', 'ReasonDesc'])\n",
    "for i in range(49):\n",
    "    reason.loc[i] = [i,\"NA\"]\n",
    "\n",
    "\"\"\"\n",
    "Avoids NaN by creating different alternatives, good for everyone,\n",
    "keep adding as you see fit\n",
    "\"\"\"\n",
    "\n",
    "for key in student_data.keys():\n",
    "    if \"Institute\" in student_data[key].keys():\n",
    "        student_data[key][\"Institute\"].fillna(\"NA\",inplace=True) #Replace all NaN values with \"NA\"\n",
    "    if \"Programme\" in student_data[key].keys():\n",
    "        student_data[key][\"Programme\"].fillna(\"NA\",inplace=True) #Replace all NaN values with \"NA\"\n",
    "    if \"Specialization\" in student_data[key].keys():\n",
    "        student_data[key][\"Specialization\"].fillna(\"NA\",inplace=True) #Replace all NaN values with \"NA\"\n",
    "    if \"Discipline\" in student_data[key].keys():\n",
    "        student_data[key][\"Discipline\"].fillna(\"NA\",inplace=True) #Replace all NaN values with \"NA\"\n",
    "    if \"Percentage\" in student_data[key].keys():\n",
    "            student_data[key][\"Percentage\"].fillna(10*(student_data[key][\"CGPA\"]-1) + 5,inplace=True) #Replace all NaN values with \"NA\""
   ]
  },
  {
   "cell_type": "markdown",
   "metadata": {},
   "source": [
    "# Functions Block\n",
    "\n",
    "Here we store all the functions to work with, some apt, some stupid.\n",
    "\n",
    "### `checkIIT()`\n",
    "\n",
    "### `checkNET()`\n",
    "\n",
    "### `checkGATE()`\n",
    "\n",
    "### `reason()`\n",
    "\n",
    "### `appendShortListed()`"
   ]
  },
  {
   "cell_type": "code",
   "execution_count": 96,
   "metadata": {},
   "outputs": [],
   "source": [
    "\n",
    "def checkIIT(Data,CGPCri):\n",
    "    \"\"\"\n",
    "    This Function checks for IITians, just a query check that's all\n",
    "    SHORTLISTING IIT CANDIDATES WITH COOL CG\n",
    "    \"\"\"\n",
    "    mylist =[]\n",
    "    for i,row in Data.iterrows():\n",
    "        \n",
    "        if(\n",
    "            \"iit\" in row[\"Institute\"].lower() or\n",
    "            \"indian institute of technology\" in row[\"Institute\"].lower()\n",
    "        ):\n",
    "            if (\n",
    "                np.isnan(row[\"CGPA\"]) or\n",
    "                row[\"CGPA\"] < CGPCri\n",
    "            ):\n",
    "                continue\n",
    "            else:\n",
    "                mylist.append(i)\n",
    "                reason = Reason(reason,i,5)\n",
    "    return mylist #Return list of indices"
   ]
  },
  {
   "cell_type": "code",
   "execution_count": 97,
   "metadata": {},
   "outputs": [],
   "source": [
    "def Reason(i,id):\n",
    "    \"\"\"\n",
    "    The Function takes in id for reason and puts it in reason csv file\n",
    "    ID For Reason Are:\n",
    "    0: Qualified via GATE\n",
    "    1: Not Enough 10/+2 Score\n",
    "    2: Not Enough GATE Score\n",
    "    3: Didn't Qualify GATE\n",
    "    4: Qualified via NET-UGC\n",
    "    5: Qualified as Graduates/Masters of IIT\n",
    "    NET-UGC and Graduate/Post-Grad in IIT are considered Exceptions\n",
    "    and not fullfilling these cannot be listed as reason\n",
    "    \"\"\"\n",
    "    reason.loc[i][\"ReasonID\"] = id\n",
    "    \n",
    "    if id == 0:\n",
    "        reason.loc[i][\"ReasonDesc\"] = \"Qualified via GATE\"\n",
    "    elif id == 1:\n",
    "        reason.loc[i][\"ReasonDesc\"] = \"Not Enough 10/+2 Score\"\n",
    "    elif id == 2:\n",
    "        reason.loc[i][\"ReasonDesc\"] = \"Not Enough GATE Score\"\n",
    "    elif id == 3:\n",
    "        reason.loc[i][\"ReasonDesc\"] = \"Didn't Qualify GATE\"\n",
    "    elif id == 4:\n",
    "        reason.loc[i][\"ReasonDesc\"] = \"Qualified via NET-UGC\"\n",
    "    elif id == 5:\n",
    "        reason.loc[i][\"ReasonDesc\"] = \"Qualified as Graduates/Masters of IIT\"\n",
    "    elif id == 6:\n",
    "        reason.loc[i][\"ReasonDesc\"] = \"Not Enough Bachelors Score\"\n",
    "    elif id == 7:\n",
    "        reason.loc[i][\"ReasonDesc\"] = \"Not Enough Masters Score\"\n",
    "    else:\n",
    "        reason.loc[i][\"ReasonDesc\"] = \"NA\"\n"
   ]
  },
  {
   "cell_type": "code",
   "execution_count": 98,
   "metadata": {},
   "outputs": [
    {
     "name": "stdout",
     "output_type": "stream",
     "text": [
      "70.0\n"
     ]
    }
   ],
   "source": [
    "print(10*(7.5-1) + 5)"
   ]
  },
  {
   "cell_type": "code",
   "execution_count": 99,
   "metadata": {},
   "outputs": [],
   "source": [
    "\n",
    "def checkNET(Data):\n",
    "    global reason\n",
    "    \"\"\"\n",
    "    This function Checks for NET-UGC Qualification\n",
    "    \"\"\"\n",
    "    global reason\n",
    "    mylist = []\n",
    "    for i,row in Data.iterrows():\n",
    "        if row[\"Discipline\"] != \"NA\":\n",
    "            mylist.append(i)\n",
    "            Reason(i,4)\n",
    "    return mylist\n"
   ]
  },
  {
   "cell_type": "code",
   "execution_count": 100,
   "metadata": {},
   "outputs": [],
   "source": [
    "\n",
    "def checkGATE(MyDict):\n",
    "    \"\"\"\n",
    "    This function checks for GATE Qualification\n",
    "    if gate qualified, check masters\n",
    "    if masters yes, exec masters block\n",
    "    else exec bachelors block\n",
    "\n",
    "    All CGPA have been converted to percentage if not present\n",
    "    so all evaluations will be done on basis of percentage only\n",
    "    \"\"\"\n",
    "    global reason\n",
    "    selected = True #Arbitrary var to hold selection logic,\n",
    "                    #Helps avoid loops and stuff\n",
    "    cutoff = 0 #Gate Marks\n",
    "    perc = 0 #Percentage\n",
    "    category = \"GEN\" #Default\n",
    "    mylist = []\n",
    "    for i,row in MyDict[\"gate\"].iterrows():\n",
    "        if row[\"Discipline\"] != \"NA\":\n",
    "            if row[\"Score\"] > 302: #Least qualifying score possible\n",
    "                selected = True\n",
    "            else:\n",
    "                Reason(i,2) #2: Not Enough Gate Score\n",
    "                selected = False\n",
    "                continue    #Eliminate some BS by skipping beforehand\n",
    "        else:\n",
    "            Reason(i,3) #3: Didnt qualify gate\n",
    "            selected = False\n",
    "            continue\n",
    "        if MyDict[\"masters\"].iloc[i][\"Programme\"] == \"NA\":\n",
    "            #Btech Part\n",
    "            cutoff = 500\n",
    "            perc = 70\n",
    "            category =  MyDict[\"bio\"].iloc[i][\"Category\"]\n",
    "            #category relaxations\n",
    "            if category == \"OBC\":\n",
    "                cutoff = 0.9 * cutoff\n",
    "            elif category in [\"SC\",\"ST\",\"PWD\"]:\n",
    "                cutoff = 0.67 * cutoff\n",
    "                perc = perc - 5\n",
    "            #GATE Filtering\n",
    "            if row[\"Score\"] < cutoff:\n",
    "                #Check GATE Score\n",
    "                Reason(i,2) #2: Not enough gate score\n",
    "                selected = False\n",
    "                continue\n",
    "            # Boards Filtering with single relaxation\n",
    "            if (\n",
    "                (MyDict[\"tenth\"].iloc[i][\"Percentage\"] < perc or MyDict[\"plustwo\"].iloc[i][\"Percentage\"] < perc - 10) or\n",
    "                (MyDict[\"tenth\"].iloc[i][\"Percentage\"] < perc - 10 or MyDict[\"plustwo\"].iloc[i][\"Percentage\"] < perc)\n",
    "            ):\n",
    "                Reason(i,1) #1: Not qualified via +2/10 score\n",
    "                selected = False\n",
    "                continue\n",
    "            # Bachelors Filtering\n",
    "            if MyDict[\"bachelors\"].iloc[i][\"Percentage\"] < perc:\n",
    "                Reason(i,6) #6: Not enough bachelor score\n",
    "                selected = False\n",
    "                continue\n",
    "\n",
    "        else:\n",
    "            #Mtech Part\n",
    "            cutoff = 450\n",
    "            perc = 60\n",
    "            category =  MyDict[\"bio\"].iloc[i][\"Category\"]\n",
    "            #category relaxations\n",
    "            if category == \"OBC\":\n",
    "                cutoff = 0.9 * cutoff\n",
    "            elif category in [\"SC\",\"ST\",\"PWD\"]:\n",
    "                cutoff = 0.67 * cutoff\n",
    "                perc = perc - 5\n",
    "            #GATE Filtering\n",
    "            if row[\"Score\"] < cutoff:\n",
    "                #Check GATE Score\n",
    "                Reason(i,2) #2: Not enough gate score\n",
    "                selected = False\n",
    "                continue\n",
    "            # Boards Filtering with single relaxation\n",
    "            if (\n",
    "                (MyDict[\"tenth\"].iloc[i][\"Percentage\"] < perc or MyDict[\"plustwo\"].iloc[i][\"Percentage\"] < perc - 10) or\n",
    "                (MyDict[\"tenth\"].iloc[i][\"Percentage\"] < perc - 10 or MyDict[\"plustwo\"].iloc[i][\"Percentage\"] < perc)\n",
    "            ):\n",
    "                Reason(i,1) #1: Not qualified via +2/10 score\n",
    "                selected = False\n",
    "                continue\n",
    "            # Bachelors Filtering\n",
    "            if MyDict[\"bachelors\"].iloc[i][\"Percentage\"] < perc:\n",
    "                Reason(i,6) #6: Not enough bachelor score\n",
    "                selected = False\n",
    "                continue\n",
    "            if MyDict[\"masters\"].iloc[i][\"Percentage\"] < perc:\n",
    "                Reason(i,7) #6: Not enough master score\n",
    "                selected = False\n",
    "                continue\n",
    "        if selected:\n",
    "            Reason(i,0) #0: Qualified Via GATE\n",
    "            mylist.append(i)\n",
    "    return mylist"
   ]
  },
  {
   "cell_type": "code",
   "execution_count": 101,
   "metadata": {},
   "outputs": [],
   "source": [
    "\n",
    "def appendShortlisted(SourceDict,ShortList):\n",
    "    \"\"\"\n",
    "    Appends Shortlisted Rows onto dict\n",
    "    Takes element of id present in ShortList present in SourceDict\n",
    "    and Puts it in TargetDict\n",
    "    \"\"\"\n",
    "    TargetDict = {}\n",
    "    for key in SourceDict.keys():\n",
    "        TargetDict[key] = pd.DataFrame(columns = SourceDict[key].columns.tolist()) #copy column headers\n",
    "        for i in ShortList:\n",
    "            TargetDict[key] = TargetDict[key].append( SourceDict[key].iloc[i] )\n",
    "    return TargetDict"
   ]
  },
  {
   "cell_type": "markdown",
   "metadata": {},
   "source": [
    "# Algorithm Block\n",
    "\n",
    "Here we run the actual algorithm"
   ]
  },
  {
   "cell_type": "code",
   "execution_count": 102,
   "metadata": {},
   "outputs": [
    {
     "name": "stdout",
     "output_type": "stream",
     "text": [
      "ID of Finalists :  [2, 5, 6, 9, 10, 14, 16, 21, 26, 32, 33, 37, 38, 39, 41, 43, 45, 46]\n"
     ]
    }
   ],
   "source": [
    "#Create All Lists and Merge Them\n",
    "\n",
    "selectGATE = checkGATE(student_data)\n",
    "BTechIIT = checkIIT(student_data[\"bachelors\"],8.0)\n",
    "MTechIIT = checkIIT(student_data[\"masters\"],8.5)\n",
    "selectNET = checkNET(student_data[\"net\"])\n",
    "\n",
    "finalList = list(\n",
    "    set(selectGATE) | set(BTechIIT) | set(MTechIIT) | set(selectNET)\n",
    ")\n",
    "\n",
    "print(\"ID of Finalists : \",finalList)\n",
    "\n",
    "finalDF = appendShortlisted(student_data,finalList)\n"
   ]
  },
  {
   "cell_type": "code",
   "execution_count": 103,
   "metadata": {},
   "outputs": [
    {
     "data": {
      "text/plain": [
       "'DISCREPANCY SOLVED'"
      ]
     },
     "execution_count": 103,
     "metadata": {},
     "output_type": "execute_result"
    }
   ],
   "source": [
    "#Found DISREPANCY in 21,26,27,46,39,37\n",
    "\"\"\"\n",
    "In practice.cpp\n",
    "26,27: 10/+2 percentage not qualified\n",
    "21,37,39,46: B Tech CG not qualified\n",
    "\n",
    "This notebooks shows them all as qualified via gate\n",
    "\"\"\"\n",
    "\"\"\" for i in [21,27,26,37,39,46]:\n",
    "    for key in student_data.keys():\n",
    "        print(key,i,\"\\n\\n\")\n",
    "        print(student_data[key].iloc[i],\"\\n\\n\") \"\"\"\n",
    "\n",
    "\"\"\"DISCREPANCY SOLVED\"\"\""
   ]
  },
  {
   "cell_type": "code",
   "execution_count": 104,
   "metadata": {},
   "outputs": [
    {
     "name": "stderr",
     "output_type": "stream",
     "text": [
      "PandasGUI INFO — pandasgui.gui — Opening PandasGUI\n"
     ]
    },
    {
     "data": {
      "text/plain": [
       "<pandasgui.gui.PandasGui at 0x1b20465eb80>"
      ]
     },
     "execution_count": 104,
     "metadata": {},
     "output_type": "execute_result"
    }
   ],
   "source": [
    "OutputDf = pd.concat([\n",
    "    student_data[\"bio\"][\"Category\"],\n",
    "    student_data[\"tenth\"].rename({\"Percentage\":\"Tenth\"},axis=1),\n",
    "    student_data[\"plustwo\"].rename({\"Percentage\":\"Plustwo\"},axis=1),\n",
    "    student_data[\"bachelors\"].rename({\"Percentage\":\"Bachelors\"},axis=1),\n",
    "    student_data[\"masters\"].rename({\"Percentage\":\"Masters\"},axis=1),\n",
    "],axis=0)\n",
    "\n",
    "OutputDf = pd.DataFrame(\n",
    "    {\n",
    "        \"Category\" : student_data[\"bio\"][\"Category\"],\n",
    "        \"Tenth\" : student_data[\"tenth\"][\"Percentage\"],\n",
    "        \"+2\" : student_data[\"plustwo\"][\"Percentage\"],\n",
    "        \"Bachelors\" : student_data[\"bachelors\"][\"Percentage\"],\n",
    "        \"Masters\" : student_data[\"masters\"][\"Percentage\"],\n",
    "        \"UGC NET\" : student_data[\"net\"][\"Discipline\"],\n",
    "        \"GATE\" : student_data[\"gate\"][\"Score\"],\n",
    "        \"Status\": reason[\"ReasonDesc\"]\n",
    "    }\n",
    ")\n",
    "\n",
    "pdgui.show(OutputDf)"
   ]
  }
 ],
 "metadata": {
  "interpreter": {
   "hash": "17264bd1fb1a9b7cbc0888bb92fef587e421ef9389a00f81eeb6a35215f2d12d"
  },
  "kernelspec": {
   "display_name": "Python 3.8.10 64-bit",
   "language": "python",
   "name": "python3"
  },
  "language_info": {
   "codemirror_mode": {
    "name": "ipython",
    "version": 3
   },
   "file_extension": ".py",
   "mimetype": "text/x-python",
   "name": "python",
   "nbconvert_exporter": "python",
   "pygments_lexer": "ipython3",
   "version": "3.8.10"
  },
  "orig_nbformat": 4
 },
 "nbformat": 4,
 "nbformat_minor": 2
}
